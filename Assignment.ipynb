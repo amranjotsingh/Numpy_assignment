{
 "cells": [
  {
   "cell_type": "code",
   "execution_count": 1,
   "id": "d5b953cf-d8c3-4853-b3b3-3f83415fbb57",
   "metadata": {},
   "outputs": [],
   "source": [
    "import numpy as np"
   ]
  },
  {
   "cell_type": "code",
   "execution_count": 2,
   "id": "1c0a0949-5da2-4c4d-867c-0d3992579890",
   "metadata": {},
   "outputs": [],
   "source": [
    "list_= ['1','2','3','4','5']"
   ]
  },
  {
   "cell_type": "code",
   "execution_count": 3,
   "id": "f1b5107c-628a-4e42-ba64-48ded488f989",
   "metadata": {},
   "outputs": [],
   "source": [
    "array_list = np.array(object =list_)"
   ]
  },
  {
   "cell_type": "code",
   "execution_count": 4,
   "id": "610ff5e8-629d-41a9-8ccc-95998bfdf7b6",
   "metadata": {},
   "outputs": [
    {
     "data": {
      "text/plain": [
       "array(['1', '2', '3', '4', '5'], dtype='<U1')"
      ]
     },
     "execution_count": 4,
     "metadata": {},
     "output_type": "execute_result"
    }
   ],
   "source": [
    "array_list"
   ]
  },
  {
   "cell_type": "code",
   "execution_count": 5,
   "id": "2549acd8-a3dd-49fc-a200-a5e7fad9037b",
   "metadata": {},
   "outputs": [
    {
     "data": {
      "text/plain": [
       "1"
      ]
     },
     "execution_count": 5,
     "metadata": {},
     "output_type": "execute_result"
    }
   ],
   "source": [
    "array_list.ndim"
   ]
  },
  {
   "cell_type": "code",
   "execution_count": 6,
   "id": "0acf2b7f-9626-4044-9ec5-cad3d4f29c8f",
   "metadata": {},
   "outputs": [],
   "source": [
    "# Q1. Is there any difference in the data type of variables list_ and array_list? If there is then write a code\n",
    "# to print the data types of both the variables."
   ]
  },
  {
   "cell_type": "code",
   "execution_count": 7,
   "id": "4a515cf3-35ce-444e-bbae-fe766a76984f",
   "metadata": {},
   "outputs": [],
   "source": [
    "# Array_list is not a defined data type in Python. Assuming that array_list refers to a list containing arrays, \n",
    "# both list_ and array_list would be of the same data type, which is a list for example"
   ]
  },
  {
   "cell_type": "code",
   "execution_count": 16,
   "id": "e3043fe3-db23-47be-8e29-94b72a406d6b",
   "metadata": {},
   "outputs": [
    {
     "name": "stdout",
     "output_type": "stream",
     "text": [
      "<class 'list'>\n",
      "<class 'list'>\n"
     ]
    }
   ],
   "source": [
    "import numpy as np\n",
    "\n",
    "# Define a Python list\n",
    "list_ = ['1','2','3','4','5']\n",
    "\n",
    "# Define a list containing NumPy arrays\n",
    "array_list1 = [np.array([1, 2, 3]), np.array([4, 5, 6]), np.array([7, 8, 9])]\n",
    "\n",
    "# Print the data types of both variables\n",
    "print(type(list_))      # Output: <class 'list'>\n",
    "print(type(array_list1)) # Output: <class 'list'>\n"
   ]
  },
  {
   "cell_type": "code",
   "execution_count": 9,
   "id": "e298e7de-d603-48e9-94e7-d97d7f6ea9c9",
   "metadata": {},
   "outputs": [],
   "source": [
    "# Q2. Write a code to print the data type of each and every element of both the variables list_ and\n",
    "# arra_list."
   ]
  },
  {
   "cell_type": "code",
   "execution_count": 10,
   "id": "41c40edd-0708-4f5f-9b26-eaf4ee8a7a47",
   "metadata": {},
   "outputs": [
    {
     "name": "stdout",
     "output_type": "stream",
     "text": [
      "<class 'str'>\n",
      "<class 'str'>\n",
      "<class 'str'>\n",
      "<class 'str'>\n",
      "<class 'str'>\n",
      "<class 'str'>\n",
      "<class 'str'>\n",
      "<class 'str'>\n",
      "<class 'str'>\n",
      "<class 'str'>\n"
     ]
    }
   ],
   "source": [
    "import numpy as np\n",
    "\n",
    "# Define a Python list\n",
    "list_ = ['1','2','3','4','5']\n",
    "\n",
    "# Define a list containing NumPy arrays\n",
    "array_list \n",
    "\n",
    "# Print the data type of each element in list_\n",
    "for element in list_:\n",
    "    print(type(element))\n",
    "\n",
    "# Print the data type of each element in array_list\n",
    "for array in array_list:\n",
    "    for element in array:\n",
    "        print(type(element))\n"
   ]
  },
  {
   "cell_type": "code",
   "execution_count": 11,
   "id": "975f336d-c963-4a43-96ae-38f3187b793c",
   "metadata": {},
   "outputs": [],
   "source": [
    "# Q3. Considering the following changes in the variable, array_list:"
   ]
  },
  {
   "cell_type": "code",
   "execution_count": 12,
   "id": "dcacb9d2-f92b-4ec6-8d59-aeacafd048d1",
   "metadata": {},
   "outputs": [],
   "source": [
    "array_list = np.array(object = list_, dtype = int)"
   ]
  },
  {
   "cell_type": "code",
   "execution_count": 13,
   "id": "423d9f03-3032-4f37-894c-9e2d5695d647",
   "metadata": {},
   "outputs": [
    {
     "data": {
      "text/plain": [
       "array([1, 2, 3, 4, 5])"
      ]
     },
     "execution_count": 13,
     "metadata": {},
     "output_type": "execute_result"
    }
   ],
   "source": [
    "array_list"
   ]
  },
  {
   "cell_type": "code",
   "execution_count": 17,
   "id": "c9ecc952-1bcc-444e-93ff-d3086cdaa64e",
   "metadata": {},
   "outputs": [
    {
     "name": "stdout",
     "output_type": "stream",
     "text": [
      "<class 'numpy.ndarray'>\n",
      "<class 'numpy.ndarray'>\n",
      "<class 'numpy.ndarray'>\n",
      "<class 'numpy.ndarray'>\n",
      "<class 'numpy.ndarray'>\n"
     ]
    }
   ],
   "source": [
    "for i in array_list:\n",
    "    print(type(array_list))"
   ]
  },
  {
   "cell_type": "code",
   "execution_count": 19,
   "id": "1ad43b3e-2168-480f-9354-88228e9b340d",
   "metadata": {},
   "outputs": [],
   "source": [
    "import numpy as np\n",
    "num_list = [ [ 1 , 2 , 3 ] , [ 4 , 5 , 6 ] ]\n",
    "num_array = np.array(object = num_list)"
   ]
  },
  {
   "cell_type": "code",
   "execution_count": null,
   "id": "6be3e3ea-9bc1-4b44-bb8a-60abd1f281e3",
   "metadata": {},
   "outputs": [],
   "source": [
    "# Q4. Write a code to find the following characteristics of variable, num_array:\n",
    "# (i) shape\n",
    "# (ii) size"
   ]
  },
  {
   "cell_type": "code",
   "execution_count": 30,
   "id": "74ceda7a-c04a-44bb-a8ab-533ebc704dbb",
   "metadata": {},
   "outputs": [
    {
     "data": {
      "text/plain": [
       "(2, 3)"
      ]
     },
     "execution_count": 30,
     "metadata": {},
     "output_type": "execute_result"
    }
   ],
   "source": [
    "num_array.shape"
   ]
  },
  {
   "cell_type": "code",
   "execution_count": 31,
   "id": "c6586e91-c116-4dfc-9120-1ee2a0e94606",
   "metadata": {},
   "outputs": [
    {
     "data": {
      "text/plain": [
       "6"
      ]
     },
     "execution_count": 31,
     "metadata": {},
     "output_type": "execute_result"
    }
   ],
   "source": [
    "num_array.size"
   ]
  },
  {
   "cell_type": "code",
   "execution_count": null,
   "id": "92c386e7-de07-4f5f-bab8-3a6424fe59e4",
   "metadata": {},
   "outputs": [],
   "source": [
    "# Q5. Write a code to create numpy array of 3*3 matrix containing zeros only, using a numpy array\n",
    "# creation function."
   ]
  },
  {
   "cell_type": "code",
   "execution_count": null,
   "id": "f2b08e03-fa52-4f30-86f1-5945be8fbfab",
   "metadata": {},
   "outputs": [],
   "source": [
    " arr =np.zeros((3,3))"
   ]
  },
  {
   "cell_type": "code",
   "execution_count": 27,
   "id": "1f38307c-afb5-45ab-be1b-32fdb91a2cf2",
   "metadata": {},
   "outputs": [
    {
     "data": {
      "text/plain": [
       "array([[0., 0., 0.],\n",
       "       [0., 0., 0.],\n",
       "       [0., 0., 0.]])"
      ]
     },
     "execution_count": 27,
     "metadata": {},
     "output_type": "execute_result"
    }
   ],
   "source": [
    "arr"
   ]
  },
  {
   "cell_type": "code",
   "execution_count": 32,
   "id": "a2fab8ca-ae46-4889-b956-fa6c605377b7",
   "metadata": {},
   "outputs": [],
   "source": [
    "# Create an identity matrix of shape (5,5) using numpy functions?"
   ]
  },
  {
   "cell_type": "code",
   "execution_count": 34,
   "id": "cd6079f2-d892-4970-a06f-cfc2d93d5a7d",
   "metadata": {},
   "outputs": [
    {
     "data": {
      "text/plain": [
       "array([[1., 0., 0., 0., 0.],\n",
       "       [0., 1., 0., 0., 0.],\n",
       "       [0., 0., 1., 0., 0.],\n",
       "       [0., 0., 0., 1., 0.],\n",
       "       [0., 0., 0., 0., 1.]])"
      ]
     },
     "execution_count": 34,
     "metadata": {},
     "output_type": "execute_result"
    }
   ],
   "source": [
    "arr =np.eye(5,5)"
   ]
  },
  {
   "cell_type": "code",
   "execution_count": null,
   "id": "826a679d-3ab8-4269-8f5c-fced57612ce2",
   "metadata": {},
   "outputs": [],
   "source": []
  }
 ],
 "metadata": {
  "kernelspec": {
   "display_name": "Python 3 (ipykernel)",
   "language": "python",
   "name": "python3"
  },
  "language_info": {
   "codemirror_mode": {
    "name": "ipython",
    "version": 3
   },
   "file_extension": ".py",
   "mimetype": "text/x-python",
   "name": "python",
   "nbconvert_exporter": "python",
   "pygments_lexer": "ipython3",
   "version": "3.10.8"
  }
 },
 "nbformat": 4,
 "nbformat_minor": 5
}
